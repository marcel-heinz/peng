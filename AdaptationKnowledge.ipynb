{
 "cells": [
  {
   "cell_type": "markdown",
   "metadata": {},
   "source": [
    "Useful knowledge for adapting the cases for the target gameplay task"
   ]
  },
  {
   "cell_type": "code",
   "execution_count": 14,
   "metadata": {
    "ExecuteTime": {
     "end_time": "2020-03-09T16:40:08.162157Z",
     "start_time": "2020-03-09T16:40:08.156861Z"
    }
   },
   "outputs": [],
   "source": [
    "import warnings\n",
    "warnings.filterwarnings('ignore')\n",
    "import numpy as np\n",
    "from keras.layers import (Activation, \n",
    "                          Convolution2D, \n",
    "                          Dense, \n",
    "                          Flatten, \n",
    "                          Permute)\n",
    "from keras.models import (Sequential, \n",
    "                          load_model)\n",
    "import time"
   ]
  },
  {
   "cell_type": "code",
   "execution_count": 2,
   "metadata": {
    "ExecuteTime": {
     "end_time": "2020-03-09T15:52:18.245453Z",
     "start_time": "2020-03-09T15:52:18.241250Z"
    }
   },
   "outputs": [],
   "source": [
    "def getActions():\n",
    "    \"\"\"\n",
    "    Returns all environment from the model repository with the \n",
    "    corresponding action space.\n",
    "    \"\"\"\n",
    "    nb_actions = {'BreakoutDeterministic-v4':4,\n",
    "                 'SpaceInvaders-v0':6,\n",
    "                 'Alien-v0':18,\n",
    "                 'Seaquest-v0':18,\n",
    "                 'MsPacman-v0': 9,\n",
    "                 'Assault-v0': 7}\n",
    "    return nb_actions"
   ]
  },
  {
   "cell_type": "code",
   "execution_count": 3,
   "metadata": {
    "ExecuteTime": {
     "end_time": "2020-03-09T15:52:20.102694Z",
     "start_time": "2020-03-09T15:52:20.098028Z"
    }
   },
   "outputs": [],
   "source": [
    "def getHyperparameter():\n",
    "    \"\"\"\n",
    "    Returns useful hyperparameters for training.\n",
    "    \"\"\"\n",
    "    hyperparameter = {'WINDOW_LENGTH':4,\n",
    "                     'INPUT_SHAPE':84}\n",
    "    return hyperparameter"
   ]
  },
  {
   "cell_type": "code",
   "execution_count": 2,
   "metadata": {
    "ExecuteTime": {
     "end_time": "2020-03-09T16:31:00.184756Z",
     "start_time": "2020-03-09T16:31:00.180920Z"
    }
   },
   "outputs": [],
   "source": [
    "def transfermode():\n",
    "    \"\"\"\n",
    "    If PENG retrieves similar case or wants to use q-injection, \n",
    "    the system loads the values for epsilon.\n",
    "    \"\"\"\n",
    "    mode = {'injection':True,\n",
    "            'model-injection':0.5,\n",
    "            \"q-injection\":0.5}\n",
    "    \n",
    "    return mode"
   ]
  },
  {
   "cell_type": "code",
   "execution_count": 4,
   "metadata": {
    "ExecuteTime": {
     "end_time": "2020-03-09T16:32:47.485680Z",
     "start_time": "2020-03-09T16:32:47.481746Z"
    }
   },
   "outputs": [],
   "source": [
    "def randomWeight():\n",
    "    \"\"\"\n",
    "    Returns a random weight:\n",
    "    \"\"\"\n",
    "    random_weight = np.random.uniform(low=0.0, high=1.0)\n",
    "    return random_weight"
   ]
  },
  {
   "cell_type": "code",
   "execution_count": 11,
   "metadata": {
    "ExecuteTime": {
     "end_time": "2020-03-09T16:36:49.736164Z",
     "start_time": "2020-03-09T16:36:49.730996Z"
    }
   },
   "outputs": [],
   "source": [
    "def policyAdaptation(nb_actions,method):\n",
    "    \"\"\"\n",
    "    Returns the injection method.\n",
    "    \n",
    "    Parameters:\n",
    "    nb_actions - int\n",
    "        number of actions\n",
    "    \n",
    "    method - boolean\n",
    "        True = Q-Injection and False = Model-Injection\n",
    "    \"\"\"\n",
    "    epsilonAdaptation = {'actions':nb_actions,'mode':True}\n",
    "    if method==False:\n",
    "        epsilonAdaptation['mode']=False\n",
    "        \n",
    "    return epsilonAdaptation"
   ]
  },
  {
   "cell_type": "code",
   "execution_count": 16,
   "metadata": {
    "ExecuteTime": {
     "end_time": "2020-03-09T16:42:15.565367Z",
     "start_time": "2020-03-09T16:42:15.558426Z"
    }
   },
   "outputs": [],
   "source": [
    "def transformArchitecture(transfer_policy,\n",
    "                          transfer_architecture,\n",
    "                          nb_actions):\n",
    "    \n",
    "    \"\"\"\n",
    "    Transforms model from model repository to required model for \n",
    "    target gameplay task.\n",
    "    \n",
    "    Parameters:\n",
    "    ----------\n",
    "    transfer_policy - .h5f\n",
    "        keras.Sequential policy\n",
    "    \n",
    "    transfer_architecture - .h5\n",
    "        keras.Sequential architecture\n",
    "        \n",
    "    nb_actions - int\n",
    "        action space\n",
    "    \"\"\"\n",
    "    \n",
    "    TIME = str(int(time.time()))\n",
    "    \n",
    "    newModel = Sequential()\n",
    "    transfer_architecture = load_model(transfer_architecture)\n",
    "    transfer_architecture.load_weights(transfer_policy)\n",
    "\n",
    "    #transformArchitecture\n",
    "    for layer in transfer_architecture.layers[:-2]:\n",
    "        newModel.add(layer)\n",
    "\n",
    "    newModel.add(Dense(units=nb_actions,\n",
    "                       kernel_initializer='random_uniform',\n",
    "                       name='dense_'+TIME))\n",
    "\n",
    "    newModel.add(Activation('linear',\n",
    "                            name='activation_'+TIME))"
   ]
  },
  {
   "cell_type": "code",
   "execution_count": 1,
   "metadata": {
    "ExecuteTime": {
     "end_time": "2020-03-09T17:03:33.841289Z",
     "start_time": "2020-03-09T17:03:33.829929Z"
    }
   },
   "outputs": [],
   "source": [
    "def buildModel():\n",
    "        \"\"\"\n",
    "        Builds the standard DRL keras Model.\n",
    "        \"\"\"\n",
    "        WINDOW_LENGTH = 4\n",
    "        INPUT_SHAPE = (84,84)\n",
    "        \n",
    "        input_shape = (WINDOW_LENGTH,) + INPUT_SHAPE\n",
    "        model = Sequential()\n",
    "        if K.common.image_dim_ordering() == 'tf':\n",
    "            # (width, height, channels)\n",
    "            model.add(Permute((2, 3, 1), input_shape=input_shape))\n",
    "        elif K.image_dim_ordering() == 'th':\n",
    "            # (channels, width, height)\n",
    "            model.add(Permute((1, 2, 3), input_shape=input_shape))\n",
    "        else:\n",
    "            raise RuntimeError('Unknown image_dim_ordering.')\n",
    "        model.add(Convolution2D(32, (8, 8), strides=(4, 4)))\n",
    "        model.add(Activation('relu'))\n",
    "        model.add(Convolution2D(64, (4, 4), strides=(2, 2)))\n",
    "        model.add(Activation('relu'))\n",
    "        model.add(Convolution2D(64, (3, 3), strides=(1, 1)))\n",
    "        model.add(Activation('relu'))\n",
    "        model.add(Flatten())\n",
    "        model.add(Dense(512))\n",
    "        model.add(Activation('relu'))\n",
    "        model.add(Dense(self.nb_actions))\n",
    "        model.add(Activation('linear'))\n",
    "        return model"
   ]
  },
  {
   "cell_type": "code",
   "execution_count": 1,
   "metadata": {
    "ExecuteTime": {
     "end_time": "2020-03-09T17:17:30.930107Z",
     "start_time": "2020-03-09T17:17:30.921532Z"
    }
   },
   "outputs": [],
   "source": [
    "def nnArchitecture(lastLayer, X):\n",
    "        \"\"\"\n",
    "        Builds the NN architecture for learning purpose.abs\n",
    "        \n",
    "        Parameters:\n",
    "        -----------\n",
    "        lastLayer - str\n",
    "            specifies the activation function in the last layer\n",
    "            \n",
    "        X - array\n",
    "            array with image data\n",
    "        \"\"\"\n",
    "        #print(\"Creating CNN with sigmoid output\")\n",
    "        model = Sequential()\n",
    "        model.add(Convolution2D(32, (8, 8), strides=(4, 4),input_shape=X.shape[1:]))\n",
    "        model.add(Activation('relu'))\n",
    "\n",
    "        model.add(Convolution2D(64, (4, 4), strides=(2, 2)))\n",
    "        model.add(Activation('relu'))\n",
    "\n",
    "        model.add(Convolution2D(64, (3, 3), strides=(1, 1)))\n",
    "        model.add(Activation('relu'))\n",
    "\n",
    "        model.add(Flatten())\n",
    "        model.add(Dense(512))\n",
    "        model.add(Activation('relu'))\n",
    "\n",
    "        model.add(Dense(self.num_classes))\n",
    "        model.add(Activation(lastLayer))\n",
    "        return model"
   ]
  }
 ],
 "metadata": {
  "hide_input": false,
  "kernelspec": {
   "display_name": "Python (impl)",
   "language": "python",
   "name": "impl"
  },
  "language_info": {
   "codemirror_mode": {
    "name": "ipython",
    "version": 3
   },
   "file_extension": ".py",
   "mimetype": "text/x-python",
   "name": "python",
   "nbconvert_exporter": "python",
   "pygments_lexer": "ipython3",
   "version": "3.6.8"
  },
  "toc": {
   "base_numbering": 1,
   "nav_menu": {},
   "number_sections": true,
   "sideBar": true,
   "skip_h1_title": false,
   "title_cell": "Table of Contents",
   "title_sidebar": "Contents",
   "toc_cell": false,
   "toc_position": {},
   "toc_section_display": true,
   "toc_window_display": false
  },
  "varInspector": {
   "cols": {
    "lenName": 16,
    "lenType": 16,
    "lenVar": 40
   },
   "kernels_config": {
    "python": {
     "delete_cmd_postfix": "",
     "delete_cmd_prefix": "del ",
     "library": "var_list.py",
     "varRefreshCmd": "print(var_dic_list())"
    },
    "r": {
     "delete_cmd_postfix": ") ",
     "delete_cmd_prefix": "rm(",
     "library": "var_list.r",
     "varRefreshCmd": "cat(var_dic_list()) "
    }
   },
   "types_to_exclude": [
    "module",
    "function",
    "builtin_function_or_method",
    "instance",
    "_Feature"
   ],
   "window_display": false
  }
 },
 "nbformat": 4,
 "nbformat_minor": 2
}
