{
 "cells": [
  {
   "cell_type": "markdown",
   "metadata": {},
   "source": [
    "# cbrRetrieve Agent\n",
    "\n",
    "Steps:\n",
    "1. [x] Look in Repo for current CaseBase\n",
    "2. [x] Create new Problem Case and init environment folder\n",
    "3. [x] Calculate Similarities\n",
    "    - [x] Local Similarity (nb_actions, gameplay)\n",
    "    - [x] Global Similarity (between cases)\n",
    "4. [x] Retrieve solution candidates"
   ]
  },
  {
   "cell_type": "markdown",
   "metadata": {},
   "source": [
    "## Look in Repo for current CaseBase\n",
    "## Create new Problem Case and init environment folder"
   ]
  },
  {
   "cell_type": "code",
   "execution_count": 1,
   "metadata": {
    "ExecuteTime": {
     "end_time": "2020-02-09T12:47:20.843975Z",
     "start_time": "2020-02-09T12:47:13.306898Z"
    }
   },
   "outputs": [
    {
     "name": "stderr",
     "output_type": "stream",
     "text": [
      "Using TensorFlow backend.\n"
     ]
    },
    {
     "name": "stdout",
     "output_type": "stream",
     "text": [
      "importing Jupyter notebook from cbrSimilarity.ipynb\n"
     ]
    }
   ],
   "source": [
    "import os\n",
    "import warnings\n",
    "warnings.filterwarnings('ignore')\n",
    "import gym\n",
    "import matplotlib.pyplot as plt\n",
    "from rl.core import Processor\n",
    "import numpy as np\n",
    "from PIL import Image\n",
    "import time\n",
    "import cv2\n",
    "from keras.models import Sequential, load_model\n",
    "from keras.utils import normalize\n",
    "import import_ipynb\n",
    "from cbrSimilarity import Weights"
   ]
  },
  {
   "cell_type": "code",
   "execution_count": 14,
   "metadata": {
    "ExecuteTime": {
     "end_time": "2020-02-09T12:49:07.712788Z",
     "start_time": "2020-02-09T12:49:07.690056Z"
    }
   },
   "outputs": [],
   "source": [
    "class InitEnv():\n",
    "      \"\"\"\n",
    "      Initializes the new target environment.\n",
    "\n",
    "      Parameters:\n",
    "      env_name - (str) Name of target gameplay task.\n",
    "      \"\"\"\n",
    "    def __init__(self, env_name,visualize=True):\n",
    "        \"\"\"\n",
    "        Agent initializes the new target environment.\n",
    "        \n",
    "        Parameters:\n",
    "        env_name - (str) Name of target gameplay task.\n",
    "        \"\"\"\n",
    "           \n",
    "            \n",
    "        self.env_name = env_name\n",
    "        self.model_repo = './KC/ModelRepo/'\n",
    "        self.root_game_folder = (self.model_repo + \n",
    "                                 'Atari_' + self.env_name)\n",
    "        \n",
    "        self.policy_folder = (self.root_game_folder + '/Policy/')\n",
    "        \n",
    "        self.architecture_folder = (self.root_game_folder + \n",
    "                                                    '/Architecture/')\n",
    "        \n",
    "        self.gameplay_folder = (self.root_game_folder + '/GamePlay/')\n",
    "        \n",
    "        self.existing_folder_structure = False\n",
    "        \n",
    "        self.checkEnvAvailability()\n",
    "        \n",
    "        self.createRootFolder()\n",
    "        \n",
    "        self.env = None\n",
    "        \n",
    "        self.nb_actions = None\n",
    "        self.visualize = visualize\n",
    "        \n",
    "        self.envCheck()\n",
    "    \n",
    "    def checkEnvAvailability(self):\n",
    "        \"\"\"\n",
    "        Checks, if the current target gameplay task is already inside \n",
    "        the model repository\n",
    "        \"\"\"\n",
    "        for folder in os.listdir(self.model_repo):\n",
    "            if self.env_name in folder:\n",
    "                self.existing_folder_structure = True\n",
    "                break\n",
    "            else:\n",
    "                pass\n",
    "            \n",
    "        if self.existing_folder_structure:\n",
    "            print(f\"Found existing folder structure\"+\n",
    "                      f\" for {self.env_name}\")\n",
    "        else:\n",
    "            print(f\"Found no folder for {self.env_name}\")\n",
    "        \n",
    "    def createRootFolder(self):\n",
    "        \"\"\"\n",
    "        Creates root folder for target gameplay task, if folder does\n",
    "        not exist.\n",
    "        \"\"\"\n",
    "        if self.existing_folder_structure:\n",
    "            pass\n",
    "        else:\n",
    "            print(\"-----------\")\n",
    "            print(f\"Creating new folder structure.\")\n",
    "            os.mkdir(self.root_game_folder)\n",
    "            os.mkdir(self.policy_folder)\n",
    "            os.mkdir(self.gameplay_folder)\n",
    "            os.mkdir(self.architecture_folder)\n",
    "            print(\"Created successfully all folders for the env.\")\n",
    "            \n",
    "    def envCheck(self):\n",
    "        \"\"\"\n",
    "        Target gameplay task inits for the first time.\n",
    "        \"\"\"\n",
    "        if self.existing_folder_structure == False:\n",
    "            self.env = gym.make(self.env_name)\n",
    "            self.env.reset()\n",
    "            action = 1\n",
    "            observation, reward, done, info = self.env.step(action)\n",
    "            save_name = self.gameplay_folder+self.env_name+'_init.png'\n",
    "            plt.imsave(save_name,observation)\n",
    "            if self.visualize:\n",
    "                plt.imshow(observation)\n",
    "                plt.show()\n",
    "            else:\n",
    "                pass\n",
    "            self.nb_actions = self.env.action_space.n\n",
    "            act_means = self.env.unwrapped.get_action_meanings()\n",
    "            \n",
    "            if self.visualize:\n",
    "                print(f\"Saved init image to: {self.gameplay_folder}\")\n",
    "                print()\n",
    "                print(f\"Number of Action: {self.nb_actions}\")\n",
    "                print()\n",
    "                print(f\"Action Meanings:\\n{act_means}\")\n",
    "                print()\n",
    "                print(f\"\\nLives:{info['ale.lives']}\")\n",
    "            else:\n",
    "                pass\n",
    "            self.env.close()\n",
    "            \n",
    "        else:\n",
    "            self.env = gym.make(self.env_name)\n",
    "            self.env.reset()\n",
    "            action = 1\n",
    "            observation, reward, done, info = self.env.step(action)\n",
    "            if self.visualize:\n",
    "                plt.imshow(observation)\n",
    "                plt.show()\n",
    "            else:\n",
    "                pass\n",
    "            self.nb_actions = self.env.action_space.n\n",
    "            act_means = self.env.unwrapped.get_action_meanings()\n",
    "            \n",
    "            if self.visualize:\n",
    "                print(f\"Number of Action: {self.nb_actions}\")\n",
    "                print()\n",
    "                print(f\"Action Meanings:\\n{act_means}\")\n",
    "                print()\n",
    "                print(f\"\\nLives:{info['ale.lives']}\")\n",
    "            else:\n",
    "                pass\n",
    "            self.env.close()\n",
    "            "
   ]
  },
  {
   "cell_type": "code",
   "execution_count": 15,
   "metadata": {
    "ExecuteTime": {
     "end_time": "2020-02-09T12:49:08.124455Z",
     "start_time": "2020-02-09T12:49:08.112551Z"
    }
   },
   "outputs": [],
   "source": [
    "class CaseBaseAgent():\n",
    "    \"\"\"\n",
    "    Agent creates case base and query case.\n",
    "    \"\"\"\n",
    "    \n",
    "    def __init__(self,query_case_env):\n",
    "        \"\"\"\n",
    "        Initializes query and case base.\n",
    "        \n",
    "        Parameter:\n",
    "        query_case_env - (str) current target gameplay task\n",
    "        \"\"\"\n",
    "        \n",
    "        self.path_to_games = './KC/ModelRepo/'\n",
    "        \n",
    "        #CB\n",
    "        self.environments = self.getEnvironments()\n",
    "        self.cases = self.getCases()\n",
    "        \n",
    "        #Query Case\n",
    "        self.query_case_env = query_case_env\n",
    "        self.query_case = self.createQueryCase()\n",
    "        \n",
    "        #InitEnv(self.query_case_env)\n",
    "        self.printCases()\n",
    "        InitEnv(self.query_case_env)\n",
    "        \n",
    "    def printCases(self):\n",
    "        \"\"\"\n",
    "        Prints the current case base + target gameplay task\n",
    "        \"\"\"\n",
    "        print(\"Case-Base:\\n\")\n",
    "        print(self.cases)\n",
    "        print(\"-------\")\n",
    "        print(\"Query Case:\\n\")\n",
    "        print(self.query_case)\n",
    "        print(\"-------\")\n",
    "        \n",
    "    def getEnvironments(self):\n",
    "        \"\"\"\n",
    "        Retrieves environments from model repository.\n",
    "        \"\"\"\n",
    "        \n",
    "        environments = []\n",
    "        for folder in os.listdir(self.path_to_games):\n",
    "            if 'Atari' in folder:\n",
    "                #print(folder)\n",
    "                env = folder.split(sep='_')\n",
    "                env = env[1]\n",
    "                environments.append(env)\n",
    "        environments.sort()\n",
    "        return environments\n",
    "    \n",
    "    def getCases(self):\n",
    "        \"\"\"\n",
    "        Retrieves all cases fromt he model repository.\n",
    "        \"\"\"\n",
    "        cases = {}\n",
    "        for env in self.environments:\n",
    "            cases[env]= self.envActions(env)\n",
    "        return cases\n",
    "            \n",
    "    def envActions(self,env_name):\n",
    "        \"\"\"\n",
    "        Checks the action size of each environment.\n",
    "        \"\"\"\n",
    "        env = gym.make(env_name)\n",
    "        nb_actions = env.action_space.n\n",
    "        return nb_actions\n",
    "    \n",
    "    def createQueryCase(self):\n",
    "        \"\"\"\n",
    "        Creates query case.\n",
    "        \"\"\"\n",
    "        query = {}\n",
    "        query[self.query_case_env] = self.envActions(self.query_case_env)\n",
    "        return query\n",
    "\n",
    "    @property\n",
    "    def getCaseBase(self):\n",
    "        \"\"\"\n",
    "        Returns case base.\n",
    "        \"\"\"\n",
    "        return self.cases\n",
    "    \n",
    "    @property\n",
    "    def getIndividualCases(self):\n",
    "        \"\"\"\n",
    "        Returns all environments from model repository.\n",
    "        \"\"\"\n",
    "        return self.environments\n",
    "    \n",
    "    @property\n",
    "    def getQueryCase(self):\n",
    "        \"\"\"\n",
    "        Returns target gameplay task.\n",
    "        \"\"\"\n",
    "        return self.query_case"
   ]
  },
  {
   "cell_type": "code",
   "execution_count": 16,
   "metadata": {
    "ExecuteTime": {
     "end_time": "2020-02-09T12:49:08.610255Z",
     "start_time": "2020-02-09T12:49:08.606156Z"
    }
   },
   "outputs": [],
   "source": [
    "ENV_NAME = 'BreakoutDeterministic-v4'"
   ]
  },
  {
   "cell_type": "code",
   "execution_count": 17,
   "metadata": {
    "ExecuteTime": {
     "end_time": "2020-02-09T12:49:10.144864Z",
     "start_time": "2020-02-09T12:49:08.991151Z"
    }
   },
   "outputs": [
    {
     "name": "stdout",
     "output_type": "stream",
     "text": [
      "Case-Base:\n",
      "\n",
      "{'Assault-v0': 7, 'BreakoutDeterministic-v4': 4, 'MsPacman-v0': 9, 'Seaquest-v0': 18, 'SpaceInvaders-v0': 6}\n",
      "-------\n",
      "Query Case:\n",
      "\n",
      "{'BreakoutDeterministic-v4': 4}\n",
      "-------\n",
      "Found existing folder structure for BreakoutDeterministic-v4\n"
     ]
    },
    {
     "data": {
      "image/png": "[encoded data removed]",
      "text/plain": [
       "<Figure size 432x288 with 1 Axes>"
      ]
     },
     "metadata": {
      "needs_background": "light"
     },
     "output_type": "display_data"
    },
    {
     "name": "stdout",
     "output_type": "stream",
     "text": [
      "Number of Action: 4\n",
      "\n",
      "Action Meanings:\n",
      "['NOOP', 'FIRE', 'RIGHT', 'LEFT']\n",
      "\n",
      "\n",
      "Lives:5\n"
     ]
    }
   ],
   "source": [
    "caseAgent = CaseBaseAgent(query_case_env=ENV_NAME)"
   ]
  },
  {
   "cell_type": "code",
   "execution_count": 18,
   "metadata": {
    "ExecuteTime": {
     "end_time": "2020-02-09T12:49:13.219210Z",
     "start_time": "2020-02-09T12:49:13.214583Z"
    }
   },
   "outputs": [],
   "source": [
    "caseBase = caseAgent.getCaseBase\n",
    "caseBase_environments = caseAgent.getIndividualCases\n",
    "\n",
    "queryCase = caseAgent.getQueryCase\n",
    "queryEnvironment = caseAgent.query_case_env\n",
    "#queryCase"
   ]
  },
  {
   "cell_type": "markdown",
   "metadata": {
    "ExecuteTime": {
     "end_time": "2020-01-23T13:08:26.930666Z",
     "start_time": "2020-01-23T13:08:26.925803Z"
    }
   },
   "source": [
    "## Calculate Similarities"
   ]
  },
  {
   "cell_type": "markdown",
   "metadata": {},
   "source": [
    "### Local Similarity"
   ]
  },
  {
   "cell_type": "markdown",
   "metadata": {},
   "source": [
    "#### nb_actions\n",
    "\n",
    "1. [x] $normalize = \\frac{x-min(x)}{max(x)-min(x)}$\n",
    "\n",
    "\n",
    "2. [x] $Dist_{euclidean}(nb\\_actions_{case},nb_actions\\_{query} =  \\sqrt{\\displaystyle\\sum_{i=1}^{n} (nb\\_actions_{case}-nb\\_actions_{query})^{2}} $\n",
    "\n",
    "\n",
    "3. [x] $Sim = \\frac{1}{1+Dist_{euclidean}}$\n"
   ]
  },
  {
   "cell_type": "code",
   "execution_count": 20,
   "metadata": {
    "ExecuteTime": {
     "end_time": "2020-02-09T12:49:15.141462Z",
     "start_time": "2020-02-09T12:49:15.119518Z"
    }
   },
   "outputs": [],
   "source": [
    "class actionSim():\n",
    "    \"\"\"\n",
    "    This agent calculates the local similarity of between the cases \n",
    "    and the target gameplay task for the nb_actions attribute.\n",
    "    \"\"\"\n",
    "    \n",
    "    def __init__(self, \n",
    "                 caseBase, \n",
    "                 caseBase_environments, \n",
    "                 queryCase,\n",
    "                 queryEnvironment):\n",
    "        \n",
    "        \"\"\"\n",
    "        Initializes the agent.\n",
    "        \n",
    "        Parameters:\n",
    "        caseBase - dict with model repository cases and nb_actions\n",
    "        caseBase_environments - list of env within model repository\n",
    "        queryCase - dict with query case and nb_actions\n",
    "        queryEnvironment - (str) current query env\n",
    "        \"\"\"\n",
    "        \n",
    "        self.caseBase = caseBase\n",
    "        self.caseBase_environments = caseBase_environments\n",
    "        \n",
    "        self.queryCase = queryCase\n",
    "        self.queryEnvironment = queryEnvironment\n",
    "\n",
    "        self.actionsCB = self.getActionsCB()\n",
    "        self.actionQuery = []\n",
    "        self.actionQuery.append(self.queryCase[self.queryEnvironment])\n",
    "        \n",
    "        self.all_actions = []\n",
    "        self.getAllActions()\n",
    "        \n",
    "        self.normedCB = []\n",
    "        self.normalizeCB()\n",
    "        \n",
    "        self.normedQuery = []\n",
    "        self.normalizeQuery()\n",
    "        \n",
    "        self.distances = []\n",
    "        self.calcDistance()\n",
    "        \n",
    "        self.nb_actions_similarities = []\n",
    "        self.calcSimilarities()\n",
    "        \n",
    "        self.envs_with_action_sims = self.simsToEnvs()\n",
    "        \n",
    "        \n",
    "    def getActionsCB(self):\n",
    "        \"\"\"\n",
    "        Stores model repository actions in local var.\n",
    "        \"\"\"\n",
    "        actions = []\n",
    "        for case in self.caseBase:\n",
    "            actions.append(self.caseBase[case])\n",
    "        return actions\n",
    "    \n",
    "    def getAllActions(self):\n",
    "        \"\"\"\n",
    "        Extracts actions from model repository\n",
    "        \"\"\"\n",
    "        for action in self.actionsCB:\n",
    "            self.all_actions.append(action)\n",
    "        for action in self.actionQuery:\n",
    "            self.all_actions.append(action)\n",
    "            \n",
    "    def normalize(self,x, values):\n",
    "        \"\"\"\n",
    "        Normalizes the attribute nb_actions\n",
    "        \"\"\"\n",
    "        return (x-np.min(values))/(np.max(values)-np.min(values))\n",
    "    \n",
    "    def normalizeCB(self):\n",
    "        \"\"\"\n",
    "        Normalizes the casebase\n",
    "        \"\"\"\n",
    "        for value in self.actionsCB:\n",
    "            norm = self.normalize(value,self.all_actions)\n",
    "            self.normedCB.append(norm)\n",
    "    \n",
    "    def normalizeQuery(self):\n",
    "        \"\"\"\n",
    "        Normalizes the query case\n",
    "        \"\"\"\n",
    "        for value in self.actionQuery:\n",
    "            norm = self.normalize(value,self.all_actions)\n",
    "            self.normedQuery.append(norm)\n",
    "            \n",
    "    def euclideanDist(self,x1,x2):\n",
    "        \"\"\"\n",
    "        Calculates the euclidean distance\n",
    "        \"\"\"\n",
    "        return np.sqrt(np.sum(np.power(x1-x2,2)))\n",
    "    \n",
    "    def calcDistance(self):\n",
    "        \"\"\"\n",
    "        Calculates the distances between cases\n",
    "        \"\"\"\n",
    "        for value in self.normedCB:\n",
    "            dist = self.euclideanDist(value,self.normedQuery)\n",
    "            self.distances.append(dist)\n",
    "    \n",
    "    def similarity(self,dist):\n",
    "        \"\"\"\n",
    "        Calculates the local similarity for the nb_action attribute\n",
    "        \"\"\"\n",
    "        return (1.0/(1+dist))\n",
    "    \n",
    "    def calcSimilarities(self):\n",
    "        \"\"\"\n",
    "        Calculates the local similarity for the nb_action attribute \n",
    "        for the case base\n",
    "        \"\"\"\n",
    "        for dist in self.distances:\n",
    "            sim = self.similarity(dist)\n",
    "            self.nb_actions_similarities.append(sim)\n",
    "            \n",
    "    def simsToEnvs(self):\n",
    "        \"\"\"\n",
    "        Stores the similarities inside an dict\n",
    "        \"\"\"\n",
    "        i = 0\n",
    "        action_env_dict = {}\n",
    "        for env in self.caseBase_environments:\n",
    "            action_env_dict[env] = self.nb_actions_similarities[i]\n",
    "            i+=1\n",
    "        return action_env_dict\n",
    "    \n",
    "    @property\n",
    "    def getActionSims(self):\n",
    "        \"\"\"\n",
    "        Returns the local similarity for the nb_action attribute\n",
    "        \"\"\"\n",
    "        return self.envs_with_action_sims"
   ]
  },
  {
   "cell_type": "code",
   "execution_count": 21,
   "metadata": {
    "ExecuteTime": {
     "end_time": "2020-02-09T12:49:15.674049Z",
     "start_time": "2020-02-09T12:49:15.667975Z"
    }
   },
   "outputs": [],
   "source": [
    "actionSims = actionSim(caseBase=caseBase,\n",
    "                       caseBase_environments=caseBase_environments,\n",
    "                       queryCase=queryCase,\n",
    "                       queryEnvironment=queryEnvironment)"
   ]
  },
  {
   "cell_type": "code",
   "execution_count": 22,
   "metadata": {
    "ExecuteTime": {
     "end_time": "2020-02-09T12:49:16.001736Z",
     "start_time": "2020-02-09T12:49:15.996344Z"
    }
   },
   "outputs": [
    {
     "data": {
      "text/plain": [
       "{'Assault-v0': 0.823529411764706,\n",
       " 'BreakoutDeterministic-v4': 1.0,\n",
       " 'MsPacman-v0': 0.7368421052631579,\n",
       " 'Seaquest-v0': 0.5,\n",
       " 'SpaceInvaders-v0': 0.875}"
      ]
     },
     "execution_count": 22,
     "metadata": {},
     "output_type": "execute_result"
    }
   ],
   "source": [
    "actionSims.getActionSims\n",
    "actionSimsCB = actionSims.getActionSims"
   ]
  },
  {
   "cell_type": "markdown",
   "metadata": {},
   "source": [
    "#### gameplay\n",
    "1. [x] Load query image\n",
    "2. [x] Show query and casebase images\n",
    "3. [x] Calculate gameplay similarities"
   ]
  },
  {
   "cell_type": "code",
   "execution_count": 24,
   "metadata": {
    "ExecuteTime": {
     "end_time": "2020-02-09T12:49:18.384813Z",
     "start_time": "2020-02-09T12:49:18.352454Z"
    }
   },
   "outputs": [],
   "source": [
    "class gameplaySim():\n",
    "    \"\"\"\n",
    "    Agent calculates the similarity for the gameplay attribute\n",
    "    \n",
    "    \"\"\"\n",
    "    \n",
    "    def __init__(self, \n",
    "                 caseBase, \n",
    "                 caseBase_environments, \n",
    "                 queryCase,\n",
    "                 queryEnvironment):\n",
    "        \n",
    "        \"\"\"\n",
    "        Initializes the agent.\n",
    "        \n",
    "        Parameters:\n",
    "        caseBase - dict with model repository cases and nb_actions\n",
    "        caseBase_environments - list of env within model repository\n",
    "        queryCase - dict with query case and nb_actions\n",
    "        queryEnvironment - (str) current query env\n",
    "        \"\"\"\n",
    "        \n",
    "        self.retrievalWeights = Weights()\n",
    "        #action_weight= retrievalWeights.action_weight\n",
    "        #gameplay_weight = retrievalWeights.gameplay_weight\n",
    "        #softmax_weight = retrievalWeights.softmax_weight\n",
    "        #sigmoid_weight = retrievalWeights.sigmoid_weight\n",
    "        #sim_threshold = retrievalWeights.sigmoid_weight\n",
    "        \n",
    "        \n",
    "        self.IMG_SIZE = 84\n",
    "        \n",
    "        self.caseBase = caseBase\n",
    "        self.caseBase_environments = caseBase_environments\n",
    "        \n",
    "        self.queryCase = queryCase\n",
    "        self.queryEnvironment = queryEnvironment\n",
    "        \n",
    "        self.nnRepo = './KC/CNN/'\n",
    "        \n",
    "        self.modelRepo = './KC/ModelRepo/Atari_'\n",
    "        \n",
    "        self.sig_weight = self.retrievalWeights.sigmoid_weight\n",
    "        self.soft_weight = self.retrievalWeights.softmax_weight\n",
    "        \n",
    "        #print(f\"Sigmoid weight: {self.sig_weight}\")\n",
    "        #print(f\"Softmax weight: {self.soft_weight}\")\n",
    "        \n",
    "        self.model_sig = None\n",
    "        \n",
    "        self.model_soft = None\n",
    "        \n",
    "        self.getPredictionModels()\n",
    "        \n",
    "        #print(f\"used mode sig: {self.model_sig}\")\n",
    "        \n",
    "        self.queryImagePath = None\n",
    "        self.getQueryImg()\n",
    "        \n",
    "        self.caseBaseImagePaths = None\n",
    "        self.getCaseBaseImg()\n",
    "        \n",
    "        self.sigPredictions = None\n",
    "        self.getSigPredictions()\n",
    "        #print(f\"Sig Pred: {self.sigPredictions}\")\n",
    "        \n",
    "        self.softPredictions = None\n",
    "        self.getSoftPredictions()\n",
    "        #print(f\"Soft Pred: {self.softPredictions}\")\n",
    "        \n",
    "        self.gamePlaySim = (self.sig_weight*self.sigPredictions+\n",
    "                               self.soft_weight*self.softPredictions)\n",
    "        \n",
    "        self.gamePlaySim = np.round(self.gamePlaySim,4)\n",
    "        self.gamePlaySim = list(self.gamePlaySim)\n",
    "        \n",
    "        self.env_with_gameplay_sim = self.simsToEnvs()\n",
    "        \n",
    "        self.showEnvironmentImages()\n",
    "        \n",
    "        \n",
    "        \n",
    "    def getPredictionModels(self):\n",
    "        \"\"\"\n",
    "        Retrieves the prediction models from the KC\n",
    "        \"\"\"\n",
    "        for predictionModel in os.listdir(self.nnRepo):\n",
    "            if 'sigmoid' in predictionModel:\n",
    "                file_path = self.nnRepo+predictionModel\n",
    "                self.model_sig = load_model(file_path)\n",
    "                \n",
    "            elif 'softmax' in predictionModel:\n",
    "                file_path = self.nnRepo+predictionModel\n",
    "                self.model_soft = load_model(file_path)\n",
    "                \n",
    "            else:\n",
    "                pass\n",
    "            \n",
    "    def getQueryImg(self):\n",
    "        \"\"\"\n",
    "        Retrieves an images from the target gameplay task\n",
    "        \"\"\"\n",
    "        path = self.modelRepo+self.queryEnvironment+'/GamePlay/'\n",
    "        for img in os.listdir(path):\n",
    "            if 'png' in img:\n",
    "                img_path = path+img\n",
    "                self.queryImagePath = img_path\n",
    "                break\n",
    "                \n",
    "    def getCaseBaseImg(self):\n",
    "        \"\"\"\n",
    "        Retrieves a random image from the model repository for each \n",
    "        environment.\n",
    "        \"\"\"\n",
    "        casebase_gameplay_paths = []\n",
    "        \n",
    "        #get all paths\n",
    "        for game in self.caseBase_environments:\n",
    "            path_to_gameplay = self.modelRepo+game+'/Gameplay/'\n",
    "            casebase_gameplay_paths.append(path_to_gameplay)\n",
    "           \n",
    "        #retrieve images\n",
    "        img_path = []\n",
    "        for path in casebase_gameplay_paths:\n",
    "            for img in os.listdir(path):\n",
    "                if 'png' in img:\n",
    "                    if 'aug' in img:\n",
    "                        pass\n",
    "                    else:\n",
    "                        img_path.append(img)\n",
    "                        break\n",
    "        #store images\n",
    "        casebaseImages = []\n",
    "        i = 0\n",
    "        for path in casebase_gameplay_paths:\n",
    "            path_to_img = path+img_path[i]\n",
    "            casebaseImages.append(path_to_img)\n",
    "            i+=1\n",
    "            \n",
    "            \n",
    "        self.caseBaseImagePaths = casebaseImages\n",
    "        \n",
    "    def showEnvironmentImages(self):\n",
    "        \"\"\"\n",
    "        Display images\n",
    "        \"\"\"\n",
    "        print(\"Comparing gameplay images...\")\n",
    "        \n",
    "        fig = plt.figure(figsize=(10,4*len(self.caseBaseImagePaths)))\n",
    "        grid = fig.add_gridspec(len(self.caseBaseImagePaths),2)\n",
    "        \n",
    "        \n",
    "        rows = grid[0].get_gridspec().get_geometry()[0]\n",
    "        cols = grid[0].get_gridspec().get_geometry()[1]\n",
    "\n",
    "        for row in range(rows):\n",
    "            for col in range(cols):\n",
    "                if col==0:\n",
    "                    title = self.queryEnvironment\n",
    "                    queryImg = plt.imread(self.queryImagePath)\n",
    "                    axQuery = fig.add_subplot(grid[row,0])\n",
    "                    axQuery.imshow(queryImg)\n",
    "                    axQuery.set(title=title)\n",
    "                else:\n",
    "                    title = (self.caseBase_environments[row]+\n",
    "                             \" Sim:\"+\n",
    "                             str(self.gamePlaySim[row]))\n",
    "                    caseImg = plt.imread(self.caseBaseImagePaths[row])\n",
    "                    axCase = fig.add_subplot(grid[row,col])\n",
    "                    axCase.imshow(caseImg)\n",
    "                    axCase.set(title=title)\n",
    "                    \n",
    "    def predictNN(self,img,model):\n",
    "        \"\"\"\n",
    "        Predict the estimated probability, that the query image is\n",
    "        from the model repository.\n",
    "        \n",
    "        \"\"\"\n",
    "        \n",
    "        predictions = []\n",
    "        img2 = cv2.imread(img,cv2.IMREAD_GRAYSCALE) \n",
    "        new_array = cv2.resize(img2,(self.IMG_SIZE,self.IMG_SIZE))\n",
    "        new_array = np.array(new_array).reshape(-1,self.IMG_SIZE,self.IMG_SIZE,1)\n",
    "        x_new = normalize(new_array,axis=1)\n",
    "        new_pred = model.predict(x_new)\n",
    "        for value in new_pred[0]:\n",
    "            predictions.append(value)\n",
    "        return np.asarray(predictions)\n",
    "    \n",
    "    def getSigPredictions(self):\n",
    "        \"\"\"\n",
    "        Calculate predictions for the sigmoid model.\n",
    "        \"\"\"\n",
    "        self.sigPredictions = self.predictNN(self.queryImagePath,\n",
    "                                             self.model_sig)\n",
    "    \n",
    "    def getSoftPredictions(self):\n",
    "        \"\"\"\n",
    "        Calculate predictions for the softmax model.\n",
    "        \"\"\"\n",
    "        self.softPredictions = self.predictNN(self.queryImagePath,\n",
    "                                             self.model_soft)\n",
    "        \n",
    "    def simsToEnvs(self):\n",
    "        \"\"\"\n",
    "        Stores the similarities inside an dict\n",
    "        \"\"\"\n",
    "        i = 0\n",
    "        gameplay_env_dict = {}\n",
    "        #print(gameplay_env_dict)\n",
    "        #print(self.gamePlaySim)\n",
    "        for env in self.caseBase_environments:\n",
    "            #print(f\"Got: {env}\")\n",
    "            gameplay_env_dict[env] = self.gamePlaySim[i]\n",
    "            #print(gameplay_env_dict)\n",
    "            i+=1\n",
    "        return gameplay_env_dict"
   ]
  },
  {
   "cell_type": "code",
   "execution_count": 25,
   "metadata": {
    "ExecuteTime": {
     "end_time": "2020-02-09T12:49:23.269951Z",
     "start_time": "2020-02-09T12:49:19.034831Z"
    }
   },
   "outputs": [
    {
     "name": "stdout",
     "output_type": "stream",
     "text": [
      "Comparing gameplay images...\n"
     ]
    },
    {
     "data": {
      "image/png": "[encoded data removed]",
      "text/plain": [
       "<Figure size 720x1440 with 10 Axes>"
      ]
     },
     "metadata": {
      "needs_background": "light"
     },
     "output_type": "display_data"
    }
   ],
   "source": [
    "gameSims = gameplaySim(caseBase=caseBase,\n",
    "                       caseBase_environments=caseBase_environments,\n",
    "                       queryCase=queryCase,\n",
    "                       queryEnvironment=queryEnvironment)"
   ]
  },
  {
   "cell_type": "code",
   "execution_count": 26,
   "metadata": {
    "ExecuteTime": {
     "end_time": "2020-02-09T12:49:33.514940Z",
     "start_time": "2020-02-09T12:49:33.511586Z"
    }
   },
   "outputs": [],
   "source": [
    "gameplaySimsCB = gameSims.env_with_gameplay_sim\n",
    "gameplaySimsCB"
   ]
  },
  {
   "cell_type": "markdown",
   "metadata": {},
   "source": [
    "### Gloabl Similarity"
   ]
  },
  {
   "cell_type": "code",
   "execution_count": 28,
   "metadata": {
    "ExecuteTime": {
     "end_time": "2020-02-09T12:49:42.006330Z",
     "start_time": "2020-02-09T12:49:41.988961Z"
    }
   },
   "outputs": [],
   "source": [
    "class GlobalSim():\n",
    "    \"\"\"\n",
    "    Agent calculates the global similarity (nb_actions, gameplay)\n",
    "    \"\"\"\n",
    "    \n",
    "    def __init__(self, \n",
    "                 caseBase, \n",
    "                 caseBase_environments, \n",
    "                 queryCase,\n",
    "                 queryEnvironment,\n",
    "                 action_similarity,           \n",
    "                 gameplay_similarity):\n",
    "        \"\"\"\n",
    "        Initializes the agent.\n",
    "        \n",
    "        Parameters:\n",
    "        caseBase - dict with model repository cases and nb_actions\n",
    "        caseBase_environments - list of env within model repository\n",
    "        queryCase - dict with query case and nb_actions\n",
    "        queryEnvironment - (str) current query env\n",
    "        action_similarity - dict with action similarities\n",
    "        gameplay_similarity - dict with gameplay similarites\n",
    "        \"\"\"\n",
    "        \n",
    "        self.retrievalWeights = Weights()\n",
    "        \n",
    "        #frame size\n",
    "        self.IMG_SIZE = 84\n",
    "        self.SAVETIME = str(int(time.time()))\n",
    "        \n",
    "        self.path_to_analysis = './Analysis/Retrieval/'\n",
    "        \n",
    "        self.sim_threshold = self.retrievalWeights.sim_threshold\n",
    "        \n",
    "        self.action_weight = self.retrievalWeights.action_weight\n",
    "        self.gameplay_weight = self.retrievalWeights.gameplay_weight\n",
    "        \n",
    "        self.sigmoid_weight = self.retrievalWeights.sigmoid_weight\n",
    "        self.softmax_weight = self.retrievalWeights.softmax_weight\n",
    "        \n",
    "        self.caseBase = caseBase\n",
    "        self.caseBase_environments = caseBase_environments\n",
    "        \n",
    "        self.queryCase = queryCase\n",
    "        self.queryEnvironment = queryEnvironment\n",
    "        \n",
    "        self.action_similarity = action_similarity\n",
    "        self.gameplay_similarity = gameplay_similarity\n",
    "        \n",
    "        \n",
    "        \n",
    "        self.globalSimilarity = self.calcGlobalSim()\n",
    "        \n",
    "        self.mostSimCases = self.getSimilarCases()\n",
    "        \n",
    "        self.analyzeSimilarity()\n",
    "        \n",
    "    def calcGlobalSim(self):\n",
    "        \"\"\"\n",
    "        Calculate global sim.\n",
    "        \"\"\"\n",
    "        case_glob_sim = {}\n",
    "        for game in self.gameplay_similarity:\n",
    "            similarity = (self.action_weight* self.action_similarity[game]+\n",
    "                          self.gameplay_weight* self.gameplay_similarity[game])\n",
    "\n",
    "            case_glob_sim[game] = similarity\n",
    "        return case_glob_sim\n",
    "        \n",
    "    def getSimilarCases(self): \n",
    "        \"\"\"\n",
    "        Retrieve similar cases.\n",
    "        \"\"\"\n",
    "        simEnv = {}\n",
    "        for game in self.globalSimilarity:\n",
    "            if self.globalSimilarity[game]>self.sim_threshold:\n",
    "                simEnv[game] = self.globalSimilarity[game]\n",
    "                \n",
    "        #Sort Cases by similarity\n",
    "        simEnv={k: v for k, v in sorted(simEnv.items(), \n",
    "                                 key=lambda item: item[1],\n",
    "                                 reverse=True)}\n",
    "        return simEnv\n",
    "    \n",
    "    def analyzeSimilarity(self):\n",
    "        \"\"\"\n",
    "        Create analyzis (charts).\n",
    "        \"\"\"\n",
    "        games = []\n",
    "        simi = []\n",
    "        for game in self.globalSimilarity:\n",
    "            games.append(game)\n",
    "            simi.append(self.globalSimilarity[game])\n",
    "        color_gray= '#979797'\n",
    "        color_red = '#FF0000'\n",
    "\n",
    "\n",
    "        fig, ax = plt.subplots(figsize=[15,7])\n",
    "\n",
    "        title = ('Global Similarity\\n\\n'+\n",
    "                 f'Query Case: {self.queryEnvironment}\\n'+\n",
    "                 f'Action Weight:{self.action_weight}\\n'+\n",
    "                 f'Gameplay Weight:{self.gameplay_weight}\\n'+ \n",
    "                 f'Softmax Weight:{self.softmax_weight}\\n'+\n",
    "                 f'Sigmoid Weight:{self.sigmoid_weight}')\n",
    "\n",
    "\n",
    "        ax.bar(games,simi,color=color_gray)\n",
    "        ax.axhline(y=0.4,color=color_red,label=f'Threshold: {self.sim_threshold}')\n",
    "        ax.set(title=title,ylabel=\"Similarity\")\n",
    "        ax.legend(loc='best')\n",
    "        save_name = ('_'+self.SAVETIME+\n",
    "                     '_Query_'\n",
    "                     +self.queryEnvironment\n",
    "                     +'.png')\n",
    "\n",
    "        #round\n",
    "        simi_round = list(np.around(np.array(simi),2))\n",
    "        for index,data in enumerate(simi_round):\n",
    "            plt.text(x=index , y =data+0.005 , s=f\"{data}\")\n",
    "            \n",
    "        plt.savefig(self.path_to_analysis+save_name,bbox_inches = 'tight')\n",
    "        plt.show()"
   ]
  },
  {
   "cell_type": "code",
   "execution_count": 29,
   "metadata": {
    "ExecuteTime": {
     "end_time": "2020-02-09T12:49:43.215001Z",
     "start_time": "2020-02-09T12:49:42.619373Z"
    }
   },
   "outputs": [
    {
     "data": {
      "image/png": "[encoded data removed]",
      "text/plain": [
       "<Figure size 1080x504 with 1 Axes>"
      ]
     },
     "metadata": {
      "needs_background": "light"
     },
     "output_type": "display_data"
    }
   ],
   "source": [
    "globSim = GlobalSim(caseBase=caseBase,\n",
    "                    caseBase_environments=caseBase_environments,\n",
    "                    queryCase=queryCase,\n",
    "                    queryEnvironment=queryEnvironment,\n",
    "                    action_similarity=actionSimsCB,\n",
    "                    gameplay_similarity = gameplaySimsCB)"
   ]
  },
  {
   "cell_type": "code",
   "execution_count": 30,
   "metadata": {
    "ExecuteTime": {
     "end_time": "2020-02-09T12:49:51.897129Z",
     "start_time": "2020-02-09T12:49:51.893707Z"
    }
   },
   "outputs": [],
   "source": [
    "mostSimCases = globSim.mostSimCases\n",
    "mostSimCases"
   ]
  }
 ],
 "metadata": {
  "hide_input": false,
  "kernelspec": {
   "display_name": "Python (impl)",
   "language": "python",
   "name": "impl"
  },
  "language_info": {
   "codemirror_mode": {
    "name": "ipython",
    "version": 3
   },
   "file_extension": ".py",
   "mimetype": "text/x-python",
   "name": "python",
   "nbconvert_exporter": "python",
   "pygments_lexer": "ipython3",
   "version": "3.6.8"
  },
  "toc": {
   "base_numbering": 1,
   "nav_menu": {},
   "number_sections": true,
   "sideBar": true,
   "skip_h1_title": false,
   "title_cell": "Table of Contents",
   "title_sidebar": "Contents",
   "toc_cell": false,
   "toc_position": {},
   "toc_section_display": true,
   "toc_window_display": false
  },
  "varInspector": {
   "cols": {
    "lenName": 16,
    "lenType": 16,
    "lenVar": 40
   },
   "kernels_config": {
    "python": {
     "delete_cmd_postfix": "",
     "delete_cmd_prefix": "del ",
     "library": "var_list.py",
     "varRefreshCmd": "print(var_dic_list())"
    },
    "r": {
     "delete_cmd_postfix": ") ",
     "delete_cmd_prefix": "rm(",
     "library": "var_list.r",
     "varRefreshCmd": "cat(var_dic_list()) "
    }
   },
   "types_to_exclude": [
    "module",
    "function",
    "builtin_function_or_method",
    "instance",
    "_Feature"
   ],
   "window_display": false
  }
 },
 "nbformat": 4,
 "nbformat_minor": 2
}
