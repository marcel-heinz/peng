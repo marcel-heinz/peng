{
 "cells": [
  {
   "cell_type": "markdown",
   "metadata": {},
   "source": [
    "Vocabulary Container has to be connected to the PENG system"
   ]
  },
  {
   "cell_type": "code",
   "execution_count": 2,
   "metadata": {
    "ExecuteTime": {
     "end_time": "2020-03-08T18:37:45.982165Z",
     "start_time": "2020-03-08T18:37:45.977444Z"
    }
   },
   "outputs": [],
   "source": [
    "def atariEnv():\n",
    "    \"\"\"\n",
    "    Returns all environments from the model repository.\n",
    "    \"\"\"\n",
    "    ENV_NAME = ['Assault-v0',\n",
    "                'SpaceInvaders-v0',\n",
    "                'BreakoutDeterministic-v4',\n",
    "                'Alien-v0',\n",
    "                'MsPacman-v0',\n",
    "                'Seaquest-v0']\n",
    "    return ENV_NAME"
   ]
  },
  {
   "cell_type": "code",
   "execution_count": 3,
   "metadata": {
    "ExecuteTime": {
     "end_time": "2020-03-09T15:55:21.710397Z",
     "start_time": "2020-03-09T15:55:21.706556Z"
    }
   },
   "outputs": [],
   "source": [
    "def getWeights():\n",
    "    \"\"\"\n",
    "    Returns the weights for the similarity measure.\n",
    "    \"\"\"\n",
    "    weights = {'actionWeight':0.5,\n",
    "               'gameplayWeight':0.5,\n",
    "               'softmaxWeight:':0.5,\n",
    "               'sigmoidWeight':0.5}\n",
    "    return weights"
   ]
  },
  {
   "cell_type": "code",
   "execution_count": 4,
   "metadata": {
    "ExecuteTime": {
     "end_time": "2020-03-09T15:55:24.237157Z",
     "start_time": "2020-03-09T15:55:24.233962Z"
    }
   },
   "outputs": [],
   "source": [
    "def getThreshold():\n",
    "    \"\"\"\n",
    "    Returns the threshold for the case retrieval.\n",
    "    \"\"\"\n",
    "    return 0.4"
   ]
  }
 ],
 "metadata": {
  "hide_input": false,
  "kernelspec": {
   "display_name": "Python (impl)",
   "language": "python",
   "name": "impl"
  },
  "language_info": {
   "codemirror_mode": {
    "name": "ipython",
    "version": 3
   },
   "file_extension": ".py",
   "mimetype": "text/x-python",
   "name": "python",
   "nbconvert_exporter": "python",
   "pygments_lexer": "ipython3",
   "version": "3.6.8"
  },
  "toc": {
   "base_numbering": 1,
   "nav_menu": {},
   "number_sections": true,
   "sideBar": true,
   "skip_h1_title": false,
   "title_cell": "Table of Contents",
   "title_sidebar": "Contents",
   "toc_cell": false,
   "toc_position": {},
   "toc_section_display": true,
   "toc_window_display": false
  },
  "varInspector": {
   "cols": {
    "lenName": 16,
    "lenType": 16,
    "lenVar": 40
   },
   "kernels_config": {
    "python": {
     "delete_cmd_postfix": "",
     "delete_cmd_prefix": "del ",
     "library": "var_list.py",
     "varRefreshCmd": "print(var_dic_list())"
    },
    "r": {
     "delete_cmd_postfix": ") ",
     "delete_cmd_prefix": "rm(",
     "library": "var_list.r",
     "varRefreshCmd": "cat(var_dic_list()) "
    }
   },
   "types_to_exclude": [
    "module",
    "function",
    "builtin_function_or_method",
    "instance",
    "_Feature"
   ],
   "window_display": false
  }
 },
 "nbformat": 4,
 "nbformat_minor": 2
}
