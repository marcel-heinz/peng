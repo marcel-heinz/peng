{
 "cells": [
  {
   "cell_type": "code",
   "execution_count": 4,
   "metadata": {
    "ExecuteTime": {
     "end_time": "2020-03-09T15:50:25.736640Z",
     "start_time": "2020-03-09T15:50:25.732099Z"
    }
   },
   "outputs": [],
   "source": [
    "import warnings\n",
    "warnings.filterwarnings('ignore')\n",
    "import gym\n",
    "import matplotlib.pyplot as plt\n",
    "from rl.core import Processor\n",
    "import numpy as np\n",
    "from PIL import Image\n",
    "import time\n",
    "import cv2"
   ]
  },
  {
   "cell_type": "code",
   "execution_count": 7,
   "metadata": {
    "ExecuteTime": {
     "end_time": "2020-03-09T15:50:39.362115Z",
     "start_time": "2020-03-09T15:50:39.355878Z"
    }
   },
   "outputs": [],
   "source": [
    "def envCheck(env_name):\n",
    "    \"\"\"\n",
    "    Checks the current environment.\n",
    "    \n",
    "    Parameters:\n",
    "    env_name - (str) name of the environment\n",
    "    \"\"\"\n",
    "    env = gym.make(env_name)\n",
    "    env.reset()\n",
    "    action = 1\n",
    "    #retrieve information\n",
    "    observation, reward, done, info = env.step(action)\n",
    "    plt.imshow(observation)\n",
    "    plt.imsave()\n",
    "    plt.show()\n",
    "    nb_actions = env.action_space.n\n",
    "    act_means = env.unwrapped.get_action_meanings()\n",
    "    #print information\n",
    "    print(f\"Number of Action: {nb_actions}\")\n",
    "    print()\n",
    "    print(f\"Action Meanings:\\n{act_means}\")\n",
    "    env.close()\n",
    "    print()\n",
    "    print(f\"Reward: {reward}\\nDone: {done}\\nInfo:{info}\")"
   ]
  },
  {
   "cell_type": "code",
   "execution_count": 3,
   "metadata": {
    "ExecuteTime": {
     "end_time": "2020-01-22T17:31:15.258853Z",
     "start_time": "2020-01-22T17:31:15.249906Z"
    }
   },
   "outputs": [],
   "source": [
    "class AtariProcessor(Processor):\n",
    "    \"\"\"\n",
    "    Standard processor class. This class doesn´t capture any images.\n",
    "    \"\"\"\n",
    "    \n",
    "    def __init__(self):\n",
    "        \"\"\"\n",
    "        Initializes the standard processor.\n",
    "        \"\"\"\n",
    "        self.INPUT_SHAPE = (84,84)\n",
    "        self.WINDOW_LENGTH = 4\n",
    "        \n",
    "    def process_observation(self, observation):\n",
    "        \"\"\"\n",
    "        This functions processes the observation.\n",
    "        \n",
    "        parameter:\n",
    "        \n",
    "        observation - image \n",
    "        \"\"\"\n",
    "        # (height, width, channel)\n",
    "        assert observation.ndim == 3  \n",
    "        img = Image.fromarray(observation)\n",
    "        \n",
    "        # resize and convert to grayscale\n",
    "        img = img.resize(self.INPUT_SHAPE).convert(\n",
    "            'L')  \n",
    "        #save image as array\n",
    "        processed_observation = np.array(img)\n",
    "        assert processed_observation.shape == self.INPUT_SHAPE\n",
    "        return processed_observation.astype('uint8')\n",
    "\n",
    "    def process_state_batch(self, batch):\n",
    "        \"\"\"\n",
    "        This function processes the state batch.\n",
    "        \"\"\"\n",
    "        processed_batch = batch.astype('float32') / 255.\n",
    "        return processed_batch\n",
    "\n",
    "    def process_reward(self, reward):\n",
    "        \"\"\"\n",
    "        This function clips the reward.\n",
    "        \"\"\"\n",
    "        return np.clip(reward, -1., 1.)"
   ]
  },
  {
   "cell_type": "code",
   "execution_count": 4,
   "metadata": {
    "ExecuteTime": {
     "end_time": "2020-01-22T17:31:15.863979Z",
     "start_time": "2020-01-22T17:31:15.854958Z"
    }
   },
   "outputs": [],
   "source": [
    "class AtariProcessorCapture(Processor):\n",
    "    \"\"\"\n",
    "    This processor extension captures images.\n",
    "    \"\"\"\n",
    "\n",
    "    def __init__(self, filepath, env_name):\n",
    "        \"\"\"\n",
    "        Initializes the 'AtariProcessor' class.\n",
    "\n",
    "        Parameter:\n",
    "        filepath(str): path where the processor saves the image\n",
    "        save_image(bool): If True, the processor saves the image\n",
    "        \"\"\"\n",
    "        self.save_image = True\n",
    "        self.filepath = filepath\n",
    "        self.env_name = env_name\n",
    "        \n",
    "        self.INPUT_SHAPE = (84,84)\n",
    "        self.WINDOW_LENGTH = 4\n",
    "\n",
    "    def process_observation(self, observation):\n",
    "        \"\"\"\n",
    "        This functions processes the observation.\n",
    "        \n",
    "        parameter:\n",
    "        \n",
    "        observation - image \n",
    "        \"\"\"\n",
    "        assert observation.ndim == 3  # (height, width, channel)\n",
    "        img = Image.fromarray(observation)\n",
    "        img = img.resize(self.INPUT_SHAPE).convert(\n",
    "            'L')  # resize and convert to grayscale\n",
    "        processed_observation = np.array(img)\n",
    "\n",
    "        if self.save_image:\n",
    "            path = self.filepath+self.env_name +'_{}.png'.format(int(time.time()))\n",
    "            cv2.imwrite(path, processed_observation)\n",
    "\n",
    "        assert processed_observation.shape == self.INPUT_SHAPE\n",
    "        # saves storage in experience memory\n",
    "        return processed_observation.astype('uint8')\n",
    "\n",
    "    def process_state_batch(self, batch):\n",
    "        \"\"\"\n",
    "        This function processes the state batch.\n",
    "        \"\"\"\n",
    "        processed_batch = batch.astype('float32') / 255.\n",
    "        return processed_batch\n",
    "\n",
    "    def process_reward(self, reward):\n",
    "        \"\"\"\n",
    "        This function clips the reward.\n",
    "        \"\"\"\n",
    "        return np.clip(reward, -1., 1.)"
   ]
  }
 ],
 "metadata": {
  "hide_input": false,
  "kernelspec": {
   "display_name": "Python (impl)",
   "language": "python",
   "name": "impl"
  },
  "language_info": {
   "codemirror_mode": {
    "name": "ipython",
    "version": 3
   },
   "file_extension": ".py",
   "mimetype": "text/x-python",
   "name": "python",
   "nbconvert_exporter": "python",
   "pygments_lexer": "ipython3",
   "version": "3.6.8"
  },
  "toc": {
   "base_numbering": 1,
   "nav_menu": {},
   "number_sections": true,
   "sideBar": true,
   "skip_h1_title": false,
   "title_cell": "Table of Contents",
   "title_sidebar": "Contents",
   "toc_cell": false,
   "toc_position": {},
   "toc_section_display": true,
   "toc_window_display": false
  },
  "varInspector": {
   "cols": {
    "lenName": 16,
    "lenType": 16,
    "lenVar": 40
   },
   "kernels_config": {
    "python": {
     "delete_cmd_postfix": "",
     "delete_cmd_prefix": "del ",
     "library": "var_list.py",
     "varRefreshCmd": "print(var_dic_list())"
    },
    "r": {
     "delete_cmd_postfix": ") ",
     "delete_cmd_prefix": "rm(",
     "library": "var_list.r",
     "varRefreshCmd": "cat(var_dic_list()) "
    }
   },
   "types_to_exclude": [
    "module",
    "function",
    "builtin_function_or_method",
    "instance",
    "_Feature"
   ],
   "window_display": false
  }
 },
 "nbformat": 4,
 "nbformat_minor": 2
}
