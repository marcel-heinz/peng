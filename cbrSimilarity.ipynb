{
 "cells": [
  {
   "cell_type": "code",
   "execution_count": 1,
   "metadata": {
    "ExecuteTime": {
     "end_time": "2020-01-23T18:28:41.292680Z",
     "start_time": "2020-01-23T18:28:40.880294Z"
    }
   },
   "outputs": [],
   "source": [
    "import pandas as pd"
   ]
  },
  {
   "cell_type": "markdown",
   "metadata": {},
   "source": [
    "## Get weights for retrieval"
   ]
  },
  {
   "cell_type": "code",
   "execution_count": 2,
   "metadata": {
    "ExecuteTime": {
     "end_time": "2020-01-23T18:28:41.770230Z",
     "start_time": "2020-01-23T18:28:41.759975Z"
    }
   },
   "outputs": [],
   "source": [
    "class Weights():\n",
    "    \n",
    "    def __init__(self):\n",
    "        path = './KC/'\n",
    "        filename = 'retrieval_values.csv'\n",
    "        self.weightsDF = pd.read_csv(path+filename,index_col=[0])\n",
    "        \n",
    "        self.action = 'action'\n",
    "        self.gameplay = 'gameplay'\n",
    "        self.sigmoid  = 'sigmoid'\n",
    "        self.softmax = 'softmax'\n",
    "        self.threshold = 'threshold'\n",
    "        \n",
    "        self.weights = self.getWeightDict()\n",
    "        \n",
    "        self.action_weight = self.weights[self.action]\n",
    "        self.gameplay_weight = self.weights[self.gameplay]\n",
    "        self.softmax_weight = self.weights[self.softmax]\n",
    "        self.sigmoid_weight = self.weights[self.sigmoid]\n",
    "        self.sim_threshold = self.weights[self.threshold]\n",
    "        \n",
    "    def getWeightDict(self):\n",
    "        weightDict = self.weightsDF.to_dict(orient='records')\n",
    "        weightDict = weightDict[0]\n",
    "        return weightDict"
   ]
  },
  {
   "cell_type": "markdown",
   "metadata": {},
   "source": [
    "## Local Similarities\n",
    "### nb_actions\n",
    "\n",
    "1. [x] $normalize = \\frac{x-min(x)}{max(x)-min(x)}$\n",
    "\n",
    "\n",
    "2. [x] $Dist_{euclidean}(nb\\_actions_{case},nb_actions\\_{query} =  \\sqrt{\\displaystyle\\sum_{i=1}^{n} (nb\\_actions_{case}-nb\\_actions_{query})^{2}} $\n",
    "\n",
    "\n",
    "3. [x] $Sim = \\frac{1}{1+Dist_{euclidean}}$"
   ]
  },
  {
   "cell_type": "code",
   "execution_count": 5,
   "metadata": {
    "ExecuteTime": {
     "end_time": "2020-03-09T16:09:32.257357Z",
     "start_time": "2020-03-09T16:09:32.251492Z"
    }
   },
   "outputs": [],
   "source": [
    "def normalize(self,x, values):\n",
    "    \"\"\"\n",
    "    Normalizes the attribute values\n",
    "\n",
    "    Parameters:\n",
    "    x - (float) single value to be normalized\n",
    "    values - (array) all values\n",
    "    \"\"\"\n",
    "    return (x-np.min(values))/(np.max(values)-np.min(values))\n",
    "\n",
    "def euclidDist(x1,x2):\n",
    "    \"\"\"\n",
    "    Calculates the euclidean distance\n",
    "    \n",
    "    Parameters:\n",
    "    x1 - (float/array) first value\n",
    "    x2 - (float/array) second value\n",
    "    \"\"\"\n",
    "    return np.sqrt(np.sum(np.power(x1-x2,2)))\n",
    "\n",
    "def actionSim(dist):\n",
    "    \"\"\"\n",
    "    Calculates the similarity\n",
    "    \n",
    "    Parameters:\n",
    "    dist - (float) distance measure\n",
    "    \"\"\"\n",
    "    return (1.0/(1+dist))\n"
   ]
  },
  {
   "cell_type": "markdown",
   "metadata": {},
   "source": [
    "### gameplay\n",
    "1. [x] Load query image\n",
    "2. [x] Show query and casebase images\n",
    "3. [x] Calculate gameplay similarities"
   ]
  },
  {
   "cell_type": "code",
   "execution_count": 6,
   "metadata": {
    "ExecuteTime": {
     "end_time": "2020-03-09T16:11:51.679249Z",
     "start_time": "2020-03-09T16:11:51.672926Z"
    }
   },
   "outputs": [],
   "source": [
    "def gameplaySim(img,model):\n",
    "    \"\"\"\n",
    "    Predict the estimated probability, that the query image is\n",
    "    from the model repository.\n",
    "    \n",
    "    Parameters:\n",
    "    img - (array) image of environment\n",
    "    model - (keras.Sequential - .h5 file) trained neural network\n",
    "    \"\"\"\n",
    "\n",
    "    predictions = []\n",
    "    img2 = cv2.imread(img,cv2.IMREAD_GRAYSCALE) \n",
    "    new_array = cv2.resize(img2,(self.IMG_SIZE,self.IMG_SIZE))\n",
    "    new_array = np.array(new_array).reshape(-1,self.IMG_SIZE,self.IMG_SIZE,1)\n",
    "    x_new = normalize(new_array,axis=1)\n",
    "    new_pred = model.predict(x_new)\n",
    "    for value in new_pred[0]:\n",
    "        predictions.append(value)\n",
    "    return np.asarray(predictions)"
   ]
  },
  {
   "cell_type": "markdown",
   "metadata": {},
   "source": [
    "### global sim\n",
    "\n",
    "$Sim_{global} = w_{nb\\_action}Sim_{nb\\_action}+w_{gameplay}Sim_{gameplay}$"
   ]
  },
  {
   "cell_type": "code",
   "execution_count": 7,
   "metadata": {
    "ExecuteTime": {
     "end_time": "2020-03-09T16:16:09.920612Z",
     "start_time": "2020-03-09T16:16:09.916321Z"
    }
   },
   "outputs": [],
   "source": [
    "def globalSim(action_similarity, gameplay_similarity):\n",
    "    \"\"\"\n",
    "    Calculates the global similarity.\n",
    "    \n",
    "    Parameters:\n",
    "    action_similarity - (float) local similarity for action sim\n",
    "    gameplay_similarity - (float) local similarity for gameplay sim\n",
    "    \"\"\"\n",
    "    similarity = (0.5 * action_similarity + \n",
    "                  0.5* gameplay_similarity)\n",
    "\n",
    "    return similarity"
   ]
  }
 ],
 "metadata": {
  "hide_input": false,
  "kernelspec": {
   "display_name": "Python (impl)",
   "language": "python",
   "name": "impl"
  },
  "language_info": {
   "codemirror_mode": {
    "name": "ipython",
    "version": 3
   },
   "file_extension": ".py",
   "mimetype": "text/x-python",
   "name": "python",
   "nbconvert_exporter": "python",
   "pygments_lexer": "ipython3",
   "version": "3.6.8"
  },
  "toc": {
   "base_numbering": 1,
   "nav_menu": {},
   "number_sections": true,
   "sideBar": true,
   "skip_h1_title": false,
   "title_cell": "Table of Contents",
   "title_sidebar": "Contents",
   "toc_cell": false,
   "toc_position": {},
   "toc_section_display": true,
   "toc_window_display": false
  },
  "varInspector": {
   "cols": {
    "lenName": 16,
    "lenType": 16,
    "lenVar": 40
   },
   "kernels_config": {
    "python": {
     "delete_cmd_postfix": "",
     "delete_cmd_prefix": "del ",
     "library": "var_list.py",
     "varRefreshCmd": "print(var_dic_list())"
    },
    "r": {
     "delete_cmd_postfix": ") ",
     "delete_cmd_prefix": "rm(",
     "library": "var_list.r",
     "varRefreshCmd": "cat(var_dic_list()) "
    }
   },
   "types_to_exclude": [
    "module",
    "function",
    "builtin_function_or_method",
    "instance",
    "_Feature"
   ],
   "window_display": false
  }
 },
 "nbformat": 4,
 "nbformat_minor": 2
}
